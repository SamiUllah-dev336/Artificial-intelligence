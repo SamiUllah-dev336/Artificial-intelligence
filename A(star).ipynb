{
 "cells": [
  {
   "cell_type": "code",
   "execution_count": 14,
   "metadata": {},
   "outputs": [
    {
     "name": "stdout",
     "output_type": "stream",
     "text": [
      "('', 'a', 0)\n",
      "sorted queue! [('a', 'b', 6), ('a', 'c', 11)]\n",
      "('a', 'b', 2)\n",
      "sorted queue! [('b', 'f', 7), ('a', 'c', 11), ('b', 'd', 16)]\n",
      "('b', 'f', 3)\n",
      "sorted queue! [('a', 'c', 11), ('b', 'd', 16)]\n",
      "('a', 'c', 1)\n",
      "sorted queue! [('c', 'g', 5), ('c', 'd', 15), ('b', 'd', 16)]\n",
      "('c', 'g', 5)\n",
      "sorted queue! [('c', 'd', 15), ('b', 'd', 16), ('g', 'd', 17)]\n",
      "('c', 'd', 4)\n",
      "sorted queue! [('d', 'e', 12), ('b', 'd', 16), ('g', 'd', 17)]\n",
      "('d', 'e', 9)\n",
      "e is a goal!\n",
      "visited [('', 'a', 0), ('a', 'b', 2), ('b', 'f', 3), ('a', 'c', 1), ('c', 'g', 5), ('c', 'd', 4), ('d', 'e', 9)]\n",
      "Path to get goal node e <- d <- c <- a\n"
     ]
    }
   ],
   "source": [
    "d={\n",
    "    'a':[('b',2),('c',1)],\n",
    "    'b':[('a',2),('d',3),('f',1)],\n",
    "    'c':[('a',1),('d',3),('g',4)],\n",
    "    'd':[('b',3),('c',3),('e',5),('g',4)],\n",
    "    'e':[('d',5)],\n",
    "    'f':[('b',1)],\n",
    "    'g':[('c',4),('d',1)]\n",
    "}\n",
    "\n",
    "heuristicN={\n",
    "    'a':5,\n",
    "    'b':4,\n",
    "    'c':10,\n",
    "    'd':11,\n",
    "    'e':3,\n",
    "    'f':4,\n",
    "    'g':0\n",
    "}\n",
    "\n",
    "#reverse close function\n",
    "def reverseClose(visited, goalNode):\n",
    "    path = [];\n",
    "    path.append(goalNode);\n",
    "    length = len(visited);\n",
    "    goalNode = visited[length-1];\n",
    "    prevLen=length-2;\n",
    "    previousNode=visited[prevLen];\n",
    "    \n",
    "    while length > 1:\n",
    "        \n",
    "        if previousNode[1] == goalNode[0]:\n",
    "            path.append(previousNode[1]);\n",
    "            goalNode = previousNode;\n",
    "            prevLen-=1;\n",
    "            previousNode=visited[prevLen];\n",
    "            length -= 1;\n",
    "        else:\n",
    "            prevLen-=1;\n",
    "            previousNode=visited[prevLen];\n",
    "            length -= 1;\n",
    "\n",
    "    print('Path to get goal node',' <- '.join(path));\n",
    "\n",
    "def Astar(d,start,end):\n",
    "    #stack is used to store list of pairs\n",
    "    queue=[];\n",
    "    # add heuristic value of first node\n",
    "    tuple1=('',start,5);\n",
    "    queue.append(tuple1);\n",
    "    visited=[];\n",
    "\n",
    "    while queue:\n",
    "        parent,child,costP=queue.pop(0);\n",
    "        # It will subtract the heuristic value of current node, so that calculate the physical cost\n",
    "        costP-=heuristicN[child];\n",
    "        popPair=(parent,child,costP);\n",
    "        print(popPair);\n",
    "\n",
    "        if child==end:\n",
    "            visited.append(popPair);\n",
    "            print(f\"{child} is a goal!\");\n",
    "            print(\"visited\",visited);\n",
    "            reverseClose(visited,child);\n",
    "            return;\n",
    "        else:\n",
    "            visited.append(popPair);\n",
    "            for subChild in d[child]:\n",
    "                not_found = not any(subChild[0] in node for node in visited);\n",
    "                if not_found:\n",
    "                    # for exmaple  'a':[('b',2),('c',1)],'a' is a child and 'b','c' are subchile \n",
    "                    # subchile[1] means the cost of that element and  subchile[0] indixate that node \n",
    "                    AstarCost=costP+subChild[1]+heuristicN[subChild[0]];        \n",
    "                    pair1=(child,subChild[0],AstarCost);\n",
    "                    queue.append(pair1);\n",
    "            queue=sorted(queue, key=lambda x: x[2]);\n",
    "            print(\"sorted queue!\",queue);              \n",
    "\n",
    "Astar(d,'a','e');"
   ]
  },
  {
   "cell_type": "code",
   "execution_count": 7,
   "metadata": {},
   "outputs": [
    {
     "name": "stdout",
     "output_type": "stream",
     "text": [
      "0\n",
      "1\n",
      "2\n",
      "3\n",
      "4\n",
      "5\n",
      "6\n",
      "7\n",
      "8\n"
     ]
    }
   ],
   "source": [
    "characters=\"acdefghij\";\n",
    "\n",
    "for char in characters:\n",
    "    print(characters.index(char));"
   ]
  }
 ],
 "metadata": {
  "kernelspec": {
   "display_name": "base",
   "language": "python",
   "name": "python3"
  },
  "language_info": {
   "codemirror_mode": {
    "name": "ipython",
    "version": 3
   },
   "file_extension": ".py",
   "mimetype": "text/x-python",
   "name": "python",
   "nbconvert_exporter": "python",
   "pygments_lexer": "ipython3",
   "version": "3.11.4"
  }
 },
 "nbformat": 4,
 "nbformat_minor": 2
}
