{
 "cells": [
  {
   "cell_type": "code",
   "execution_count": 40,
   "metadata": {},
   "outputs": [
    {
     "ename": "KeyboardInterrupt",
     "evalue": "",
     "output_type": "error",
     "traceback": [
      "\u001b[1;31m---------------------------------------------------------------------------\u001b[0m",
      "\u001b[1;31mKeyboardInterrupt\u001b[0m                         Traceback (most recent call last)",
      "\u001b[1;32me:\\Python\\randomWalk.ipynb Cell 1\u001b[0m line \u001b[0;36m1\n\u001b[0;32m     <a href='vscode-notebook-cell:/e%3A/Python/randomWalk.ipynb#W0sZmlsZQ%3D%3D?line=13'>14</a>\u001b[0m     \u001b[39melse\u001b[39;00m:\n\u001b[0;32m     <a href='vscode-notebook-cell:/e%3A/Python/randomWalk.ipynb#W0sZmlsZQ%3D%3D?line=14'>15</a>\u001b[0m         error\u001b[39m+\u001b[39m\u001b[39m=\u001b[39m\u001b[39m1\u001b[39m;\n\u001b[1;32m---> <a href='vscode-notebook-cell:/e%3A/Python/randomWalk.ipynb#W0sZmlsZQ%3D%3D?line=15'>16</a>\u001b[0m     j\u001b[39m+\u001b[39m\u001b[39m=\u001b[39m\u001b[39m1\u001b[39m;\n\u001b[0;32m     <a href='vscode-notebook-cell:/e%3A/Python/randomWalk.ipynb#W0sZmlsZQ%3D%3D?line=18'>19</a>\u001b[0m randomChar\u001b[39m=\u001b[39mrandom\u001b[39m.\u001b[39mchoice(alphabets);\n\u001b[0;32m     <a href='vscode-notebook-cell:/e%3A/Python/randomWalk.ipynb#W0sZmlsZQ%3D%3D?line=19'>20</a>\u001b[0m \u001b[39mfor\u001b[39;00m match \u001b[39min\u001b[39;00m matched:\n",
      "\u001b[1;31mKeyboardInterrupt\u001b[0m: "
     ]
    }
   ],
   "source": [
    "import random\n",
    "alphabets=\"ABCDEFGHIJKLMNOPQRSTUVWXYZ\";\n",
    "originalStr=\"Hello\";\n",
    "randomString=['A','B','E','G','H'];\n",
    "matched=[];\n",
    "orgstrlen=len(originalStr);\n",
    "\n",
    "while error!=0:\n",
    "    j=0\n",
    "    for char in originalStr:\n",
    "        if char==randomString[j]:\n",
    "            matched.append((char,charindex));\n",
    "            error-=1;\n",
    "        else:\n",
    "            error+=1;\n",
    "        j+=1;\n",
    "\n",
    "\n",
    "    randomChar=random.choice(alphabets);\n",
    "    for match in matched:\n",
    "        randomNumb=random.randint(0,len(randomString)-1);\n",
    "        if match[1]!=randomNumb:\n",
    "            randomString[randomNumb]=randomChar;\n",
    "            break;\n",
    "print(originalStr,randomString)            \n",
    "\n",
    "       \n",
    "\n"
   ]
  }
 ],
 "metadata": {
  "kernelspec": {
   "display_name": "base",
   "language": "python",
   "name": "python3"
  },
  "language_info": {
   "codemirror_mode": {
    "name": "ipython",
    "version": 3
   },
   "file_extension": ".py",
   "mimetype": "text/x-python",
   "name": "python",
   "nbconvert_exporter": "python",
   "pygments_lexer": "ipython3",
   "version": "3.11.4"
  }
 },
 "nbformat": 4,
 "nbformat_minor": 2
}
