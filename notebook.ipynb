{
 "cells": [
  {
   "cell_type": "markdown",
   "metadata": {},
   "source": [
    "firstNotebook"
   ]
  },
  {
   "cell_type": "code",
   "execution_count": 1,
   "metadata": {},
   "outputs": [
    {
     "name": "stdout",
     "output_type": "stream",
     "text": [
      "samiullah=6546\n"
     ]
    }
   ],
   "source": [
    "# print('samiullah');\n",
    "# x,y,z='samiullah',4,3\n",
    "# print(x,y,z);\n",
    "\n",
    "\n",
    "y=['samiullah',5,5.7];\n",
    "ctr=6546;\n",
    "print(f\"{y[0]}={ctr}\");\n",
    "\n",
    "# #for paragraph\n",
    "# print('''This is samiullah and it is a very nice person he lives in lahore h\n",
    "# and working on CS  department in comsats lahore ''')\n",
    "\n",
    "# print('dfuigsdfuigsduifsdkfuisdfjksdfuhsdufhjisdfuisdfhjdfdfudf\\nuidfsdfijsdifjsdiooooooooooooooooooooooooooooooo\\nhdsidhsiodh')\n",
    "\n",
    "# #print('sami\\n'*10);\n",
    "# my_name='gujjar'\n",
    "# father='Ramzan'\n",
    "# #formatted string\n",
    "# print(f'hello {my_name} {father}')"
   ]
  },
  {
   "cell_type": "code",
   "execution_count": 18,
   "metadata": {},
   "outputs": [
    {
     "name": "stdout",
     "output_type": "stream",
     "text": [
      "exist\n"
     ]
    }
   ],
   "source": [
    "\n",
    "d={\n",
    "    'a':['b','c','e'],\n",
    "    'b':['a','c','d','e'],\n",
    "    'c':['a','b','d','e'],\n",
    "    'd':['b','c','e'],\n",
    "    'e':['a','c','d'],\n",
    "}\n",
    "if 'b' in d.keys():\n",
    "    print('exist')\n",
    "else:\n",
    "    print('doesnt exist')    \n"
   ]
  },
  {
   "cell_type": "code",
   "execution_count": 17,
   "metadata": {},
   "outputs": [
    {
     "name": "stdout",
     "output_type": "stream",
     "text": [
      "a\n",
      "c\n",
      "d\n",
      "e\n"
     ]
    }
   ],
   "source": [
    "\n",
    "d={\n",
    "    'a':['b','c','e'],\n",
    "    'b':['a','c','d','e','f'],\n",
    "    'c':['a','b','d','e'],\n",
    "    'd':[('b','c','e'),(1,2,3)],\n",
    "    'e':['a','c','d'],\n",
    "}\n",
    "\n",
    "for i in d['b'][0:-1]:\n",
    "    print(i);\n",
    "\n",
    "\n",
    "#list\n",
    "# L=[]\n",
    "# L.append('a');\n",
    "# L.append('b');\n",
    "# L.append('d');\n",
    "# print(L);\n",
    "# L.pop(0);\n",
    "# print(L)"
   ]
  },
  {
   "cell_type": "code",
   "execution_count": 7,
   "metadata": {},
   "outputs": [
    {
     "ename": "IndentationError",
     "evalue": "unexpected indent (1122333285.py, line 12)",
     "output_type": "error",
     "traceback": [
      "\u001b[1;36m  Cell \u001b[1;32mIn[7], line 12\u001b[1;36m\u001b[0m\n\u001b[1;33m    pair=(7,'a')\u001b[0m\n\u001b[1;37m    ^\u001b[0m\n\u001b[1;31mIndentationError\u001b[0m\u001b[1;31m:\u001b[0m unexpected indent\n"
     ]
    }
   ],
   "source": [
    "d={\n",
    "    'a':['b','c'],\n",
    "    'b':['a','d','e'],\n",
    "    'c':['a','e','f','g'],\n",
    "    'd':['b'],\n",
    "    'e':['b','c','h'],\n",
    "    'f':['c','g'],\n",
    "    'g':['c','f']\n",
    "}\n",
    "#create a stack\n",
    "#def dfs(d,start,end)\n",
    "    pair=(7,'a')\n",
    "    stack.append(pair);\n",
    "    print(stack)\n",
    "\n",
    "    # while stack:\n",
    "    #     vertex=stack.pop();\n",
    "\n",
    "    #     if vertex==end:\n",
    "    #         print('goal successful!');\n",
    "    #         return;\n",
    "    #     if vertex not in visited:\n",
    "            \n",
    "        \n",
    "        \n",
    "        \n",
    "        \n",
    "\n"
   ]
  },
  {
   "cell_type": "code",
   "execution_count": 12,
   "metadata": {},
   "outputs": [
    {
     "data": {
      "text/plain": [
       "' i'"
      ]
     },
     "execution_count": 12,
     "metadata": {},
     "output_type": "execute_result"
    }
   ],
   "source": [
    "#name=input('Enter your name');\n",
    "#birth=input('Enter your birth');\n",
    "# age=2023-int(birth);\n",
    "# age   #benefit using jupyter\n",
    "\n",
    "now='now it is break'\n",
    "now[0]\n",
    "now[-2]\n",
    "now[3:5]"
   ]
  },
  {
   "cell_type": "code",
   "execution_count": 13,
   "metadata": {},
   "outputs": [
    {
     "name": "stdout",
     "output_type": "stream",
     "text": [
      "100 year person\n"
     ]
    }
   ],
   "source": [
    "#control structure\n",
    "\n",
    "if age<=15:\n",
    "    print('It is youngest person!');\n",
    "elif age<45:\n",
    "    print('older person!');\n",
    "else:\n",
    "    print('100 year person');\n"
   ]
  },
  {
   "cell_type": "code",
   "execution_count": 1,
   "metadata": {},
   "outputs": [],
   "source": [
    "#while loop\n",
    "age=int(input('Enter your age'));\n",
    "while age<=56:\n",
    "    print(age);\n",
    "    age=int(input('Enter your age'));\n",
    "print('age is greater than 56')    "
   ]
  },
  {
   "cell_type": "code",
   "execution_count": 10,
   "metadata": {},
   "outputs": [
    {
     "name": "stdout",
     "output_type": "stream",
     "text": [
      "[(1, 'sami')]\n"
     ]
    }
   ],
   "source": [
    "pair=(1,'sami');\n",
    "stack=[];\n",
    "stack.append(pair);\n",
    "print(stack);"
   ]
  },
  {
   "cell_type": "code",
   "execution_count": 16,
   "metadata": {},
   "outputs": [
    {
     "name": "stdout",
     "output_type": "stream",
     "text": [
      "0\n",
      "1\n",
      "2\n",
      "3\n",
      "4\n",
      "5\n",
      "6\n",
      "7\n",
      "8\n",
      "9\n"
     ]
    }
   ],
   "source": [
    "#for loop\n",
    "for item in range(4,10):\n",
    "    print(item);"
   ]
  },
  {
   "cell_type": "code",
   "execution_count": 25,
   "metadata": {},
   "outputs": [
    {
     "name": "stdout",
     "output_type": "stream",
     "text": [
      "76.3\n",
      "sami\n",
      "786\n",
      "76.3\n"
     ]
    }
   ],
   "source": [
    "#list\n",
    "name=['sami',786,76.3];\n",
    "print(name[2])\n",
    "for item in name:\n",
    "    print(item)"
   ]
  },
  {
   "cell_type": "code",
   "execution_count": 27,
   "metadata": {},
   "outputs": [
    {
     "name": "stdout",
     "output_type": "stream",
     "text": [
      "23.3\n"
     ]
    }
   ],
   "source": [
    "import array as arr\n",
    "gujjar=arr.array('d',[67.3,23.3]);\n",
    "print(gujjar[1])"
   ]
  },
  {
   "cell_type": "code",
   "execution_count": 2,
   "metadata": {},
   "outputs": [
    {
     "data": {
      "image/png": "[encoded data removed]",
      "text/plain": [
       "<Figure size 640x480 with 1 Axes>"
      ]
     },
     "metadata": {},
     "output_type": "display_data"
    }
   ],
   "source": [
    "import matplotlib.pyplot as plt;\n",
    "import numpy as np;\n",
    "\n",
    "x=np.arange(0,2*np.pi+.3,np.pi/10);\n",
    "y=np.cos(x);\n",
    "plt.plot(x,y,'-or');\n",
    "plt.grid();\n",
    "plt.show();\n"
   ]
  },
  {
   "cell_type": "code",
   "execution_count": 18,
   "metadata": {},
   "outputs": [
    {
     "data": {
      "image/png": "[encoded data removed]",
      "text/plain": [
       "<Figure size 640x480 with 1 Axes>"
      ]
     },
     "metadata": {},
     "output_type": "display_data"
    }
   ],
   "source": [
    "import matplotlib.pyplot as plt;\n",
    "import numpy as np;\n",
    "\n",
    "x=np.arange(0,3*np.pi+.3,np.pi/10);\n",
    "y=np.sin(x)\n",
    "plt.plot(x,y,'-ob');\n",
    "plt.grid();\n",
    "plt.show();\n"
   ]
  }
 ],
 "metadata": {
  "kernelspec": {
   "display_name": "base",
   "language": "python",
   "name": "python3"
  },
  "language_info": {
   "codemirror_mode": {
    "name": "ipython",
    "version": 3
   },
   "file_extension": ".py",
   "mimetype": "text/x-python",
   "name": "python",
   "nbconvert_exporter": "python",
   "pygments_lexer": "ipython3",
   "version": "3.11.4"
  },
  "orig_nbformat": 4
 },
 "nbformat": 4,
 "nbformat_minor": 2
}
