{
 "cells": [
  {
   "cell_type": "code",
   "execution_count": 3,
   "metadata": {},
   "outputs": [
    {
     "name": "stdout",
     "output_type": "stream",
     "text": [
      "d is a goal!\n",
      "visited [('', 'a'), ('a', 'c'), ('c', 'g'), ('g', 'f'), ('c', 'f'), ('c', 'e'), ('e', 'h'), ('e', 'b'), ('b', 'd')]\n",
      "Path to get goal node d <- b <- e <- c <- a\n"
     ]
    }
   ],
   "source": [
    "# dfs using pairs!  and It is done for assignment!!!\n",
    "d={\n",
    "    'a':['b','c'],\n",
    "    'b':['a','d','e'],\n",
    "    'c':['a','e','f','g'],\n",
    "    'd':['b'],\n",
    "    'e':['b','c','h'],\n",
    "    'f':['c','g'],\n",
    "    'g':['c','f'],\n",
    "    'h':['e']\n",
    "}\n",
    "\n",
    "def reverseClose(visited, goalNode):\n",
    "    path = [];\n",
    "    path.append(goalNode);\n",
    "    length = len(visited);\n",
    "    goalNode = visited[length-1];\n",
    "    prevLen=length-2;\n",
    "    previousNode=visited[prevLen];\n",
    "\n",
    "    while length > 1:\n",
    "        \n",
    "        if previousNode[1] == goalNode[0]:\n",
    "            path.append(previousNode[1]);\n",
    "            goalNode = previousNode;\n",
    "            prevLen-=1;\n",
    "            previousNode=visited[prevLen];\n",
    "            length -= 1;\n",
    "        else:\n",
    "            prevLen-=1;\n",
    "            previousNode=visited[prevLen];\n",
    "            length -= 1;\n",
    "\n",
    "    print('Path to get goal node',' <- '.join(path));\n",
    "\n",
    "\n",
    "def dfs(d,start,end):\n",
    "    #stack is used to store list of pairs\n",
    "    stack=[];\n",
    "    pair=('',start)\n",
    "    stack.append(pair);\n",
    "    visited=[];\n",
    "\n",
    "    while stack:\n",
    "        parent,child=stack.pop();\n",
    "        popPair=(parent,child);\n",
    "\n",
    "        if child==end:\n",
    "            visited.append(popPair);\n",
    "            print(f\"{child} is a goal!\");\n",
    "            print(\"visited\",visited) ;\n",
    "            reverseClose(visited,child);\n",
    "            return;\n",
    "        else:\n",
    "            visited.append(popPair);\n",
    "            for subChild in d[child]:\n",
    "                not_found = not any(subChild in node for node in visited);\n",
    "                if not_found:\n",
    "                    pair1=(child,subChild);\n",
    "                    stack.append(pair1);\n",
    "\n",
    "dfs(d,'a','d');        \n"
   ]
  },
  {
   "cell_type": "code",
   "execution_count": null,
   "metadata": {},
   "outputs": [
    {
     "name": "stdout",
     "output_type": "stream",
     "text": [
      "g is a goal!\n",
      "visited [('', 'a'), ('a', 'b'), ('a', 'c'), ('b', 'd'), ('b', 'e'), ('c', 'e'), ('c', 'f'), ('c', 'g')]\n",
      "Path to get goal node g <- c <- a\n"
     ]
    }
   ],
   "source": [
    "# bfs using pairs!  and It is done for assignment!!!\n",
    "d={\n",
    "    'a':['b','c'],\n",
    "    'b':['a','d','e'],\n",
    "    'c':['a','e','f','g'],\n",
    "    'd':['b'],\n",
    "    'e':['b','c','h'],\n",
    "    'f':['c','g'],\n",
    "    'g':['c','f'],\n",
    "    'h':['e']\n",
    "}\n",
    "#reverse close function is defined in dfs and is working in bfs \n",
    "\n",
    "def bfs(d,start,end):\n",
    "    #stack is used to store list of pairs\n",
    "    queue=[];\n",
    "    pair=('',start);\n",
    "    queue.append(pair);\n",
    "    visited=[];\n",
    "\n",
    "    while queue:\n",
    "        parent,child=queue.pop(0);\n",
    "        popPair=(parent,child);\n",
    "\n",
    "        if child==end:\n",
    "            visited.append(popPair);\n",
    "            print(f\"{child} is a goal!\");\n",
    "            print(\"visited\",visited) ;\n",
    "            reverseClose(visited,child);\n",
    "            return;\n",
    "        else:\n",
    "            visited.append(popPair);\n",
    "            for subChild in d[child]:\n",
    "                not_found = not any(subChild in node for node in visited);\n",
    "                if not_found:\n",
    "                    pair1=(child,subChild);\n",
    "                    queue.append(pair1);\n",
    "\n",
    "bfs(d,'a','g');        \n"
   ]
  },
  {
   "cell_type": "code",
   "execution_count": 2,
   "metadata": {},
   "outputs": [
    {
     "name": "stdout",
     "output_type": "stream",
     "text": [
      "[6, 7]\n"
     ]
    }
   ],
   "source": [
    "stack=[5,6,7];\n",
    "stack.pop(0);\n",
    "print(stack);"
   ]
  },
  {
   "cell_type": "code",
   "execution_count": null,
   "metadata": {},
   "outputs": [],
   "source": []
  }
 ],
 "metadata": {
  "kernelspec": {
   "display_name": "base",
   "language": "python",
   "name": "python3"
  },
  "language_info": {
   "codemirror_mode": {
    "name": "ipython",
    "version": 3
   },
   "file_extension": ".py",
   "mimetype": "text/x-python",
   "name": "python",
   "nbconvert_exporter": "python",
   "pygments_lexer": "ipython3",
   "version": "3.11.4"
  },
  "orig_nbformat": 4
 },
 "nbformat": 4,
 "nbformat_minor": 2
}
