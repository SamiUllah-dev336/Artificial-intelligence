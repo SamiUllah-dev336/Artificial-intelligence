{
 "cells": [
  {
   "cell_type": "code",
   "execution_count": 2,
   "metadata": {},
   "outputs": [],
   "source": [
    "import cv2\n",
    "import numpy as np\n",
    "\n",
    "# Load the Haar Cascade for face detection\n",
    "# face_cascade = cv2.CascadeClassifier(cv2.data.haarcascades + 'haarcascade_frontalface_default.xml');\n",
    "\n",
    "# Load the pre-trained SSD model for face detection\n",
    "ssd_net = cv2.dnn.readNetFromCaffe(\n",
    "    'deploy.prototxt.txt',  # Path to the prototxt file\n",
    "    'res10_300x300_ssd_iter_140000.caffemodel'  # Path to the model file\n",
    ")\n",
    "\n",
    "cap=cv2.VideoCapture(0);\n",
    "\n",
    "while True:\n",
    "    # Read a frame from the camera\n",
    "    ret, frame = cap.read();\n",
    "    # Check if the frame was read successfully\n",
    "    if not ret:\n",
    "        print(\"Error: Could not read frame.\")\n",
    "        break;\n",
    "    # Perform face detection using Haar Cascades\n",
    "    # gray = cv2.cvtColor(frame, cv2.COLOR_BGR2GRAY)\n",
    "    # faces_haar = face_cascade.detectMultiScale(gray, scaleFactor=1.3, minNeighbors=5, minSize=(30, 30))\n",
    "\n",
    "    # Perform face detection using SSD\n",
    "    blob = cv2.dnn.blobFromImage(cv2.resize(frame, (300, 300)), 1.0, (300, 300), (104, 117, 123))\n",
    "    ssd_net.setInput(blob)\n",
    "    detections_ssd = ssd_net.forward();\n",
    "\n",
    "\n",
    "    # Process SSD detections\n",
    "    for i in range(detections_ssd.shape[2]):\n",
    "        confidence = detections_ssd[0, 0, i, 2]\n",
    "        if confidence > 0.5:  # Confidence threshold\n",
    "            box = detections_ssd[0, 0, i, 3:7] * np.array([frame.shape[1], frame.shape[0], frame.shape[1], frame.shape[0]])\n",
    "            (startX, startY, endX, endY) = box.astype(int)\n",
    "            cv2.rectangle(frame, (startX, startY), (endX, endY), (0, 255, 0), 2)\n",
    "            cv2.putText(frame, 'SSD', (startX, startY - 10), cv2.FONT_HERSHEY_SIMPLEX, 0.5, (0, 255, 0), 2)\n",
    "    print(frame);\n",
    "    # Display the frame with detections\n",
    "    cv2.imshow('Face Detection', frame);\n",
    "    # Exit the loop if the 'q' key is pressed\n",
    "    if cv2.waitKey(1) & 0xFF == ord('a'):\n",
    "        break;\n",
    "# Release the camera and close all OpenCV windows\n",
    "cap.release();\n",
    "cv2.destroyAllWindows();"
   ]
  }
 ],
 "metadata": {
  "kernelspec": {
   "display_name": "base",
   "language": "python",
   "name": "python3"
  },
  "language_info": {
   "codemirror_mode": {
    "name": "ipython",
    "version": 3
   },
   "file_extension": ".py",
   "mimetype": "text/x-python",
   "name": "python",
   "nbconvert_exporter": "python",
   "pygments_lexer": "ipython3",
   "version": "3.11.4"
  },
  "orig_nbformat": 4
 },
 "nbformat": 4,
 "nbformat_minor": 2
}
